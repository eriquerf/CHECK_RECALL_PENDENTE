{
  "nbformat": 4,
  "nbformat_minor": 0,
  "metadata": {
    "colab": {
      "provenance": [],
      "authorship_tag": "ABX9TyOQLgF3fDS864r8nT8eW75X",
      "include_colab_link": true
    },
    "kernelspec": {
      "name": "python3",
      "display_name": "Python 3"
    },
    "language_info": {
      "name": "python"
    }
  },
  "cells": [
    {
      "cell_type": "markdown",
      "metadata": {
        "id": "view-in-github",
        "colab_type": "text"
      },
      "source": [
        "<a href=\"https://colab.research.google.com/github/eriquerf/CHECK_RECALL_PENDENTE/blob/main/CHECK_RECALL_PENDENTE.ipynb\" target=\"_parent\"><img src=\"https://colab.research.google.com/assets/colab-badge.svg\" alt=\"Open In Colab\"/></a>"
      ]
    },
    {
      "cell_type": "markdown",
      "source": [
        "**O projeto consiste em determinar o nível de gravidade de cada recall informado pela montadora do veículo. E pensando na gestão de recall de uma empresa com a quantidade de frota elevada.**\n",
        "\n",
        "---\n",
        "\n",
        "**Precisamos fazer um ranking dos recalls pendentes, sendo do mais grave para o mais leve. Esse procedimento é necessário para identificar quais veículos precisamos priorizar na parada para realizar a manutenção.**\n",
        "\n",
        "---\n",
        "\n",
        "**De acordo com a nova atualização do CTB** (**Código de Trânsito Brasileiro**)**, a não realização de recall pendente passa a ser impeditivo para denovar o CRLV (Certificado de registro e licenciamento de veículo).**\n",
        "\n",
        "---\n",
        "**Sem contar que a maioria dos recalls são manutenções que podem ocasionar acidente e colocar em risco a vida do condutor, demais passageiros e terceiros.**"
      ],
      "metadata": {
        "id": "E_Cp5_Iou2KH"
      }
    },
    {
      "cell_type": "code",
      "execution_count": 2,
      "metadata": {
        "id": "EzFRrfSRqL2P"
      },
      "outputs": [],
      "source": [
        "#Instalando o SDK do Google\n",
        "!pip install -q -U google-generativeai"
      ]
    },
    {
      "cell_type": "code",
      "source": [
        "#Configurações iniciais\n",
        "import google.generativeai as genai\n",
        "from google.colab import userdata\n",
        "\n",
        "api_key = userdata.get('SECRET_KEY')\n",
        "genai.configure(api_key=api_key)"
      ],
      "metadata": {
        "id": "h0uRivdYtkAE"
      },
      "execution_count": 3,
      "outputs": []
    },
    {
      "cell_type": "code",
      "source": [
        "#Listando os modelos disponíveis\n",
        "for m in genai.list_models():\n",
        "  if 'generateContent' in m.supported_generation_methods:\n",
        "    print(m.name)"
      ],
      "metadata": {
        "colab": {
          "base_uri": "https://localhost:8080/",
          "height": 139
        },
        "id": "UNE0n_5ztsGx",
        "outputId": "49c365cc-468b-46f6-8134-50202c417f6f"
      },
      "execution_count": 4,
      "outputs": [
        {
          "output_type": "stream",
          "name": "stdout",
          "text": [
            "models/gemini-1.0-pro\n",
            "models/gemini-1.0-pro-001\n",
            "models/gemini-1.0-pro-latest\n",
            "models/gemini-1.0-pro-vision-latest\n",
            "models/gemini-1.5-pro-latest\n",
            "models/gemini-pro\n",
            "models/gemini-pro-vision\n"
          ]
        }
      ]
    },
    {
      "cell_type": "code",
      "source": [
        "generation_config = {\n",
        "  \"candidate_count\": 1,\n",
        "  \"temperature\": 0,\n",
        "}"
      ],
      "metadata": {
        "id": "zp-rx0QSuxCe"
      },
      "execution_count": 5,
      "outputs": []
    },
    {
      "cell_type": "markdown",
      "source": [
        "**Não será necessário limitar as informações, pois são dados técnicos**"
      ],
      "metadata": {
        "id": "Iv5ni51Dt2AD"
      }
    },
    {
      "cell_type": "code",
      "source": [
        "model = genai.GenerativeModel(model_name='gemini-1.0-pro-latest',\n",
        "                                  generation_config=generation_config,)"
      ],
      "metadata": {
        "id": "8ydCQ_hFtz0-"
      },
      "execution_count": 8,
      "outputs": []
    },
    {
      "cell_type": "markdown",
      "source": [
        "**Incluir no texto abaixo os recalls que precisam ser verificados e sempre inserir antes do recall um número sequencial e um \"-\".**\n",
        "\n",
        "---\n",
        "Deve informar se cada um  dos recalls a seguir têm gravidade baixa, média ou alta. Apresentar os dados em tabela, com a gravidade em uma coluna e o recall na outra coluna. Se estiver com o licenciamento bloqeuado, a gravidade é alta. Organizar na tabela do mais grave para o menos grave. ANÁLISE COM MUITA ATENÇÃO, FOI AGUÉM PODE MORRER PELA FALTA DE PRIORIDADE:\n",
        "\n",
        "---\n",
        "**Exemplo:** Deve informar se cada um  dos recalls a seguir têm gravidade baixa, média ou alta. Apresentar os dados em tabela, com a gravidade em uma coluna e o recall na outra coluna. Se estiver com o licenciamento bloqeuado, a gravidade é alta. Organizar na tabela do mais grave para o menos grave. ANÁLISE COM MUITA ATENÇÃO, FOI AGUÉM PODE MORRER PELA FALTA DE PRIORIDADE: 1-FALHA DO COMPONENTE QUE PODER? ACARRETAR O NÃO FUNCIONAMENTO DAS LUZES DE SETA DE DIREITO SEM A CIENCIA DO CONDUTOR. 2-SEU VEICULO ESTA BLOQUEADO PARA LICENCIAMENTO ANUAL, DEVIDO PENDENCIA DE REALIZACAO DE RECALL, CONFORME CODIGO BRASILEIRO DE TRANSITO. CONTATE SUA CONCESSIONARIA FIAT PARA AGENDAMENTO E REALIZACAO GRATUITA DOS SERVICOS NECESSARIOS. 3-Possibilidade de falha da iluminacao traseira do veiculo. 4-RISCO TRAVAMENTO RODA ACIDENTES GRAVES 5-FOI CONSTATADO QUE A VEDACAO DO GERADOR DE GAS PODE PERMITIR A ENTRADA DE UMIDADE NA CAMARA DO PROPELENTE, PROVOCANDO SUA DEGRADACAO ACELERADA, PODENDO LEVAR AO ROMPIMENTO DO GERADOR DE GAS DO PASSAGEIRO EM CASO DE DEFLAGRACAO\n",
        "\n",
        "\n"
      ],
      "metadata": {
        "id": "S48wY1wnGjhM"
      }
    },
    {
      "cell_type": "code",
      "source": [
        "chat = model.start_chat(history=[])\n",
        "\n",
        "prompt = input('Esperando prompt: ')\n",
        "\n",
        "\n",
        "# Digite fim no chat para encerrar a consulta.\n",
        "while prompt != \"fim\":\n",
        "  response = chat.send_message(prompt)\n",
        "  print(\"Resposta:\", response.text, '\\n\\n')\n",
        "  prompt = input('Esperando prompt: ')"
      ],
      "metadata": {
        "colab": {
          "base_uri": "https://localhost:8080/",
          "height": 230
        },
        "id": "mEfBcspaxNU9",
        "outputId": "92b4e683-0bbf-476e-a66b-471131f87cb0"
      },
      "execution_count": null,
      "outputs": [
        {
          "output_type": "stream",
          "name": "stdout",
          "text": [
            "Esperando prompt: Deve informar se cada um  dos recalls a seguir têm gravidade baixa, média ou alta. Apresentar os dados em tabela, com a gravidade em uma coluna e o recall na outra coluna. Se estiver com o licenciamento bloqeuado, a gravidade é alta. Organizar na tabela do mais grave para o menos grave. ANÁLISE COM MUITA ATENÇÃO, FOI AGUÉM PODE MORRER PELA FALTA DE PRIORIDADE:1-FALHA DO COMPONENTE QUE PODER? ACARRETAR O NÃO FUNCIONAMENTO DAS LUZES DE SETA DE DIREITO SEM A CIENCIA DO CONDUTOR.2-SEU VEICULO ESTA BLOQUEADO PARA LICENCIAMENTO ANUAL, DEVIDO PENDENCIA DE REALIZACAO DE RECALL, CONFORME CODIGO BRASILEIRO DE TRANSITO. CONTATE SUA CONCESSIONARIA FIAT PARA AGENDAMENTO E REALIZACAO GRATUITA DOS SERVICOS NECESSARIOS. 3-Possibilidade de falha da iluminacao traseira do veiculo.4-RISCO TRAVAMENTO RODA ACIDENTES GRAVES 5-FOI CONSTATADO QUE A VEDACAO DO GERADOR DE GAS PODE PERMITIR A ENTRADA DE UMIDADE NA CAMARA DO PROPELENTE, PROVOCANDO SUA DEGRADACAO ACELERADA, PODENDO LEVAR AO ROMPIMENTO DO GERADOR DE GAS DO PASSAGEIRO EM CASO DE DEFLAGRACAO\n",
            "Resposta: | Gravidade | Recall |\n",
            "|---|---|\n",
            "| Alta | Seu veículo está bloqueado para licenciamento anual |\n",
            "| Alta | Foi constatado que a vedação do gerador de gás pode permitir a entrada de umidade na câmara do propelente |\n",
            "| Média | Risco de travamento da roda, acidentes graves |\n",
            "| Média | Possibilidade de falha da iluminação traseira do veículo |\n",
            "| Baixa | Falha do componente que pode acarretar o não funcionamento das luzes de seta de direito sem a ciência do condutor | \n",
            "\n",
            "\n"
          ]
        }
      ]
    }
  ]
}